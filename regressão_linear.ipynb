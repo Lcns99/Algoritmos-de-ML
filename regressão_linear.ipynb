{
  "nbformat": 4,
  "nbformat_minor": 0,
  "metadata": {
    "colab": {
      "name": "regressão_linear.ipynb",
      "provenance": [],
      "authorship_tag": "ABX9TyN0cv1edJYbbcAf+5MeQtLD",
      "include_colab_link": true
    },
    "kernelspec": {
      "name": "python3",
      "display_name": "Python 3"
    }
  },
  "cells": [
    {
      "cell_type": "markdown",
      "metadata": {
        "id": "view-in-github",
        "colab_type": "text"
      },
      "source": [
        "<a href=\"https://colab.research.google.com/github/Lcns99/regressaolinear/blob/main/regress%C3%A3o_linear.ipynb\" target=\"_parent\"><img src=\"https://colab.research.google.com/assets/colab-badge.svg\" alt=\"Open In Colab\"/></a>"
      ]
    },
    {
      "cell_type": "code",
      "metadata": {
        "id": "BFDixxb5QKGn"
      },
      "source": [
        "import pandas as pd"
      ],
      "execution_count": 1,
      "outputs": []
    },
    {
      "cell_type": "code",
      "metadata": {
        "id": "v-mOVVIdQYbh",
        "outputId": "8102d6e7-edb1-4cc5-93d3-f3aa9a095764",
        "colab": {
          "base_uri": "https://localhost:8080/",
          "height": 204
        }
      },
      "source": [
        "#Cria o df com as colunas idade e salário anual\n",
        "df = pd.DataFrame({'Idade': [18,25,57,45,26,64,37,40,24,33], 'Salário Anual': [15000,29000,68000,52000,32000,80000,41000,45000,26000,33000]})\n",
        "df.head()"
      ],
      "execution_count": 6,
      "outputs": [
        {
          "output_type": "execute_result",
          "data": {
            "text/html": [
              "<div>\n",
              "<style scoped>\n",
              "    .dataframe tbody tr th:only-of-type {\n",
              "        vertical-align: middle;\n",
              "    }\n",
              "\n",
              "    .dataframe tbody tr th {\n",
              "        vertical-align: top;\n",
              "    }\n",
              "\n",
              "    .dataframe thead th {\n",
              "        text-align: right;\n",
              "    }\n",
              "</style>\n",
              "<table border=\"1\" class=\"dataframe\">\n",
              "  <thead>\n",
              "    <tr style=\"text-align: right;\">\n",
              "      <th></th>\n",
              "      <th>Idade</th>\n",
              "      <th>Salário Anual</th>\n",
              "    </tr>\n",
              "  </thead>\n",
              "  <tbody>\n",
              "    <tr>\n",
              "      <th>0</th>\n",
              "      <td>18</td>\n",
              "      <td>15000</td>\n",
              "    </tr>\n",
              "    <tr>\n",
              "      <th>1</th>\n",
              "      <td>25</td>\n",
              "      <td>29000</td>\n",
              "    </tr>\n",
              "    <tr>\n",
              "      <th>2</th>\n",
              "      <td>57</td>\n",
              "      <td>68000</td>\n",
              "    </tr>\n",
              "    <tr>\n",
              "      <th>3</th>\n",
              "      <td>45</td>\n",
              "      <td>52000</td>\n",
              "    </tr>\n",
              "    <tr>\n",
              "      <th>4</th>\n",
              "      <td>26</td>\n",
              "      <td>32000</td>\n",
              "    </tr>\n",
              "  </tbody>\n",
              "</table>\n",
              "</div>"
            ],
            "text/plain": [
              "   Idade  Salário Anual\n",
              "0     18          15000\n",
              "1     25          29000\n",
              "2     57          68000\n",
              "3     45          52000\n",
              "4     26          32000"
            ]
          },
          "metadata": {
            "tags": []
          },
          "execution_count": 6
        }
      ]
    },
    {
      "cell_type": "code",
      "metadata": {
        "id": "MPA7toH-SS02"
      },
      "source": [
        "import numpy as np\n",
        "xData = np.array(df['Idade']) #variável independente\n",
        "yData = np.array(df['Salário Anual']) #variável dependente"
      ],
      "execution_count": 13,
      "outputs": []
    },
    {
      "cell_type": "code",
      "metadata": {
        "id": "LwzTnBCQSkGB"
      },
      "source": [
        "#Definindo a função de otimização(regressão simples)\n",
        "def equacaolinear(x,a,b):\n",
        "  return a * x + b"
      ],
      "execution_count": 14,
      "outputs": []
    },
    {
      "cell_type": "code",
      "metadata": {
        "id": "5bbT3yvuThEg"
      },
      "source": [
        "#gerando os parâmetros iniciais para o otimizador\n",
        "parametrosIniciais = np.array([1.0,1.0])"
      ],
      "execution_count": 15,
      "outputs": []
    },
    {
      "cell_type": "code",
      "metadata": {
        "id": "Rr2F3rJ0T8zm"
      },
      "source": [
        "from scipy.optimize import curve_fit #biblioteca para realizar a otimização dos MSE\n",
        "#Realizando a otimização através do erro médio quadrado(MSE)\n",
        "parametrosOtimizados, pconv = curve_fit(equacaolinear, xData, yData, parametrosIniciais)\n",
        "#parametrosOtimizados: contém os parâmetros de ajuste da curva\n",
        "#pcov: contém a covariância dos parâmetros encontrados"
      ],
      "execution_count": 19,
      "outputs": []
    },
    {
      "cell_type": "code",
      "metadata": {
        "id": "Xo1qsOwPUf5J"
      },
      "source": [
        "#Realizando a previsão dos dados através do modelo (constrói a equação linear)\n",
        "previsaoModelo = equacaolinear(xData,*parametrosOtimizados) #utiliza a função linear com os parâmetros otimizados"
      ],
      "execution_count": 20,
      "outputs": []
    },
    {
      "cell_type": "code",
      "metadata": {
        "id": "g5GiAHmVWgAK"
      },
      "source": [
        "#Encontrando o erro absoluto (linhas verticais)\n",
        "erroAbsoluto = previsaoModelo - yData #(valor previsto - valor real)"
      ],
      "execution_count": 21,
      "outputs": []
    },
    {
      "cell_type": "code",
      "metadata": {
        "id": "q8BEVfenW1wG",
        "outputId": "06a4c3db-cae0-47fb-b25e-147e95eff80a",
        "colab": {
          "base_uri": "https://localhost:8080/"
        }
      },
      "source": [
        "#Calculando o erro quadrático entre cada medida\n",
        "SE = np.square(erroAbsoluto)\n",
        "#Calculando o MSE\n",
        "MSE = np.mean(SE)\n",
        "print('SE: ', SE)\n",
        "print('MSE: ', MSE)"
      ],
      "execution_count": 22,
      "outputs": [
        {
          "output_type": "stream",
          "text": [
            "SE:  [ 4587883.33064101  6834760.82563804   413069.18137435   634115.64144357\n",
            " 18436761.23538558  4467167.3659006   1517955.21070226  1424802.59030848\n",
            "   873982.13514337 15601891.57382987]\n",
            "MSE:  5479238.909036714\n"
          ],
          "name": "stdout"
        }
      ]
    },
    {
      "cell_type": "code",
      "metadata": {
        "id": "gmWd6rfbXkHm",
        "outputId": "72ae64e6-dbe9-40c5-d994-4d818ea64755",
        "colab": {
          "base_uri": "https://localhost:8080/"
        }
      },
      "source": [
        "#Realizando o cálculo do coeficiente de determinação\n",
        "Rsquared = 1.0 - (np.var(erroAbsoluto) / np.var(yData))\n",
        "print('Coeficiente de Determinação: ', Rsquared)"
      ],
      "execution_count": 23,
      "outputs": [
        {
          "output_type": "stream",
          "text": [
            "Coeficiente de Determinação:  0.9846300347582353\n"
          ],
          "name": "stdout"
        }
      ]
    },
    {
      "cell_type": "code",
      "metadata": {
        "id": "Mz3N0rSlYJs6",
        "outputId": "e415dd3d-3c62-4d4a-cc29-310df87e4a71",
        "colab": {
          "base_uri": "https://localhost:8080/"
        }
      },
      "source": [
        "#Mostrando os parâmetros da regressão\n",
        "print('Y = {}X {}'.format(parametrosOtimizados[0], parametrosOtimizados[1]))"
      ],
      "execution_count": 24,
      "outputs": [
        {
          "output_type": "stream",
          "text": [
            "Y = 1320.5325666669085X -6627.651716729711\n"
          ],
          "name": "stdout"
        }
      ]
    },
    {
      "cell_type": "code",
      "metadata": {
        "id": "0ETrKvmbYk2Y",
        "outputId": "5940babd-d74b-4fae-e919-a832d4019dac",
        "colab": {
          "base_uri": "https://localhost:8080/",
          "height": 399
        }
      },
      "source": [
        "import matplotlib.pyplot as plt\n",
        "\n",
        "#Plotando a figura\n",
        "f = plt.figure(figsize = (4,4), dpi = 100) #indica o tamanho da figura\n",
        "axes = f.add_subplot(111) #criar os objetos para o subplot\n",
        "\n",
        "#Plotando os pontos no gráfico\n",
        "axes.plot(xData, yData, 'ro')\n",
        "\n",
        "#Criando os dados para serem utilizados na construção da linha (equação)\n",
        "xModel = np.linspace(start= min(xData), stop= max(xData)) #valores mínimos e máximos da linha\n",
        "yModel = equacaolinear(xModel, *parametrosOtimizados) #aplica a função com os parâmetros obtidos\n",
        "\n",
        "#Plota a linha\n",
        "axes.plot(xModel, yModel)\n",
        "plt.xlabel('Idade')\n",
        "plt.ylabel('Salário Anual(R$)')"
      ],
      "execution_count": 27,
      "outputs": [
        {
          "output_type": "execute_result",
          "data": {
            "text/plain": [
              "Text(0, 0.5, 'Salário Anual(R$)')"
            ]
          },
          "metadata": {
            "tags": []
          },
          "execution_count": 27
        },
        {
          "output_type": "display_data",
          "data": {
            "image/png": "[encoded data removed]",
            "text/plain": [
              "<Figure size 400x400 with 1 Axes>"
            ]
          },
          "metadata": {
            "tags": [],
            "needs_background": "light"
          }
        }
      ]
    },
    {
      "cell_type": "code",
      "metadata": {
        "id": "NZ_03zQAbWdQ"
      },
      "source": [
        ""
      ],
      "execution_count": null,
      "outputs": []
    }
  ]
}